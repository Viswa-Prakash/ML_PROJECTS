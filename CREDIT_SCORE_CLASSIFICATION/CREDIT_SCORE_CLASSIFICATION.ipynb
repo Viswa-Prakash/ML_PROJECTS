{
 "cells": [
  {
   "cell_type": "markdown",
   "id": "24dd1600",
   "metadata": {},
   "source": [
    "## Credit Score Classification: Case Study\n",
    "\n",
    "The credit score of a person determines the creditworthiness of the person. It helps financial companies determine if you can repay the loan or credit you are applying for.\n",
    "\n",
    "There are three credit scores that banks and credit card companies use to label their customers:\n",
    "\n",
    "* Good\n",
    "* Standard\n",
    "* Poor\n",
    "\n",
    "A person with a good credit score will get loans from any bank and financial institution.\n",
    "\n",
    "You are required to find relationships based on how banks classify credit scores and train a model to classify the credit score of a person."
   ]
  },
  {
   "cell_type": "code",
   "execution_count": null,
   "id": "18e469f5",
   "metadata": {},
   "outputs": [],
   "source": [
    "# Importing necessary python libraries\n",
    "\n",
    "import pandas as pd\n",
    "import numpy as np\n",
    "import matplotlib.pyplot as plt\n",
    "import seaborn as sns\n",
    "import plotly.express as px\n",
    "import plotly.graph_objects as go\n",
    "import plotly.io as pio\n",
    "pio.templates.default = \"plotly_white\""
   ]
  },
  {
   "cell_type": "code",
   "execution_count": null,
   "id": "625237e4",
   "metadata": {},
   "outputs": [],
   "source": [
    "# Importing the dataset and creating a dataframe\n",
    "data = pd.read_csv('train.csv')"
   ]
  },
  {
   "cell_type": "code",
   "execution_count": null,
   "id": "12e4bf8c",
   "metadata": {},
   "outputs": [],
   "source": [
    "# Displaying first five rows of the dataset\n",
    "data.head()"
   ]
  },
  {
   "cell_type": "code",
   "execution_count": null,
   "id": "4c32e2ed",
   "metadata": {},
   "outputs": [],
   "source": [
    "# Check the shape of the dataset\n",
    "data.shape"
   ]
  },
  {
   "cell_type": "markdown",
   "id": "8a33ff2f",
   "metadata": {},
   "source": [
    "The dataset contains 100000 rows and 28 columns"
   ]
  },
  {
   "cell_type": "code",
   "execution_count": null,
   "id": "e2e81dff",
   "metadata": {
    "scrolled": true
   },
   "outputs": [],
   "source": [
    "# Information about the colouns of the dataset\n",
    "data.info()"
   ]
  },
  {
   "cell_type": "markdown",
   "id": "f02bd322",
   "metadata": {},
   "source": [
    "There are 7 categorical columns and 21 numerical columns present in the dataset"
   ]
  },
  {
   "cell_type": "code",
   "execution_count": null,
   "id": "85760bd4",
   "metadata": {},
   "outputs": [],
   "source": [
    "# Checking the missing values in the dataset\n",
    "data.isnull().sum()"
   ]
  },
  {
   "cell_type": "markdown",
   "id": "406dc965",
   "metadata": {},
   "source": [
    "The dataset doesn't have any null values"
   ]
  },
  {
   "cell_type": "markdown",
   "id": "0f242472",
   "metadata": {},
   "source": [
    "### Exploratory Data Analysis"
   ]
  },
  {
   "cell_type": "markdown",
   "id": "aa58912e",
   "metadata": {},
   "source": [
    "**Analysing Credit Score**"
   ]
  },
  {
   "cell_type": "code",
   "execution_count": null,
   "id": "93960a2b",
   "metadata": {},
   "outputs": [],
   "source": [
    "print(data['Credit_Score'].value_counts())\n",
    "data['Credit_Score'].value_counts().plot(kind='bar')\n",
    "plt.show()"
   ]
  },
  {
   "cell_type": "markdown",
   "id": "ae9310bf",
   "metadata": {},
   "source": [
    "**Analysing Imapct of Various Occupations on Credit Score**"
   ]
  },
  {
   "cell_type": "code",
   "execution_count": null,
   "id": "983c16ea",
   "metadata": {},
   "outputs": [],
   "source": [
    "fig = px.box(data, x='Occupation', color='Credit_Score',\n",
    "            title='Credit Scores Based on Occupation',\n",
    "            color_discrete_map={'Poor':'red', 'Standard':'yellow', 'Good':'green'})\n",
    "fig.show()"
   ]
  },
  {
   "cell_type": "markdown",
   "id": "2d52e962",
   "metadata": {},
   "source": [
    "There is not much difference in the credit scores of all occupations mentioned in the data. "
   ]
  },
  {
   "cell_type": "markdown",
   "id": "2486469c",
   "metadata": {},
   "source": [
    "**Analysing Impact of Income on Credit Score**"
   ]
  },
  {
   "cell_type": "code",
   "execution_count": null,
   "id": "ea8f0f4b",
   "metadata": {},
   "outputs": [],
   "source": [
    "fig = px.box(data, x='Credit_Score', y= 'Annual_Income',  \n",
    "             color='Credit_Score',\n",
    "             title='Credit Scores Based on Annual Income',\n",
    "             color_discrete_map={'Poor':'red', 'Standard':'yellow', 'Good':'green'})\n",
    "fig.update_traces(quartilemethod='exclusive')\n",
    "fig.show()"
   ]
  },
  {
   "cell_type": "markdown",
   "id": "52b97c24",
   "metadata": {},
   "source": [
    "The more the annual income of the people, the better will be there credit score."
   ]
  },
  {
   "cell_type": "markdown",
   "id": "747bf2b8",
   "metadata": {},
   "source": [
    "**Analysing Impact of Monthly In hand Salary on Credit Score**"
   ]
  },
  {
   "cell_type": "code",
   "execution_count": null,
   "id": "75f2a7da",
   "metadata": {},
   "outputs": [],
   "source": [
    "fig = px.box(data, x='Credit_Score', y= 'Monthly_Inhand_Salary',  \n",
    "             color='Credit_Score',\n",
    "             title='Credit Scores Based on Monthly_Inhand_Salary',\n",
    "             color_discrete_map={'Poor':'red', 'Standard':'yellow', 'Good':'green'})\n",
    "fig.update_traces(quartilemethod='exclusive')\n",
    "fig.show()"
   ]
  },
  {
   "cell_type": "markdown",
   "id": "c3b87bbc",
   "metadata": {},
   "source": [
    "The more the monthly income of the people, the better there credit score will become."
   ]
  },
  {
   "cell_type": "markdown",
   "id": "6b1cc8de",
   "metadata": {},
   "source": [
    "**Analysing Impact of Number of Bank Accounts on Credit Score**"
   ]
  },
  {
   "cell_type": "code",
   "execution_count": null,
   "id": "8203a047",
   "metadata": {},
   "outputs": [],
   "source": [
    "fig = px.box(data, x='Credit_Score', y= 'Num_Bank_Accounts',  \n",
    "             color='Credit_Score',\n",
    "             title='Credit Scores Based on Number of Bank Accounts',\n",
    "             color_discrete_map={'Poor':'red', 'Standard':'yellow', 'Good':'green'})\n",
    "fig.update_traces(quartilemethod='exclusive')\n",
    "fig.show()"
   ]
  },
  {
   "cell_type": "markdown",
   "id": "4f2b7cd1",
   "metadata": {},
   "source": [
    "Maintaining more than five bank accounts is not good for good credit score. A person should have 2-3 bank accounts only. So having more bank accounts impacts the credit score."
   ]
  },
  {
   "cell_type": "markdown",
   "id": "c08d4642",
   "metadata": {},
   "source": [
    "**Analysing Impact of Number of Credit Cards on Credit Score** "
   ]
  },
  {
   "cell_type": "code",
   "execution_count": null,
   "id": "10998a22",
   "metadata": {},
   "outputs": [],
   "source": [
    "fig = px.box(data, x='Credit_Score', y= 'Num_Credit_Card',  \n",
    "             color='Credit_Score',\n",
    "             title='Credit Scores Based on Number of Credit Cards',\n",
    "             color_discrete_map={'Poor':'red', 'Standard':'yellow', 'Good':'green'})\n",
    "fig.update_traces(quartilemethod='exclusive')\n",
    "fig.show()"
   ]
  },
  {
   "cell_type": "markdown",
   "id": "ff9815d2",
   "metadata": {},
   "source": [
    "Just like the bank accounts, having more credit cards will have impact on your credit score. Having 3-5 cards is good for your credit score."
   ]
  },
  {
   "cell_type": "markdown",
   "id": "e295a78c",
   "metadata": {},
   "source": [
    "**Analysing Impact of Interest Rate of loans and EMIs on Credit Score**"
   ]
  },
  {
   "cell_type": "code",
   "execution_count": null,
   "id": "02c50bcd",
   "metadata": {},
   "outputs": [],
   "source": [
    "fig = px.box(data, x='Credit_Score', y= 'Interest_Rate',  \n",
    "             color='Credit_Score',\n",
    "             title='Credit Scores Based on Avg Interest Rate',\n",
    "             color_discrete_map={'Poor':'red', 'Standard':'yellow', 'Good':'green'})\n",
    "fig.update_traces(quartilemethod='exclusive')\n",
    "fig.show()"
   ]
  },
  {
   "cell_type": "markdown",
   "id": "94811756",
   "metadata": {},
   "source": [
    "If the average interest is 4-11%, the credit score is good. If the average interest rate is more than 15%, is bad for your credit score."
   ]
  },
  {
   "cell_type": "markdown",
   "id": "ec88acb4",
   "metadata": {},
   "source": [
    "**Analysing Impact of Number of loans taken on Credit Score**"
   ]
  },
  {
   "cell_type": "code",
   "execution_count": null,
   "id": "c7a60919",
   "metadata": {},
   "outputs": [],
   "source": [
    "fig = px.box(data, x='Credit_Score', y= 'Num_of_Loan',  \n",
    "             color='Credit_Score',\n",
    "             title='Credit Scores Based on Number of Loans',\n",
    "             color_discrete_map={'Poor':'red', 'Standard':'yellow', 'Good':'green'})\n",
    "fig.update_traces(quartilemethod='exclusive')\n",
    "fig.show()"
   ]
  },
  {
   "cell_type": "markdown",
   "id": "b8112b0a",
   "metadata": {},
   "source": [
    "To have a good credit score, a person should have 1-3 loans. More than 3 loans will negatively impacts your credit score."
   ]
  },
  {
   "cell_type": "markdown",
   "id": "5b3897ab",
   "metadata": {},
   "source": [
    "**Analysing Impact of Type of Loan taken on Credit Score**"
   ]
  },
  {
   "cell_type": "code",
   "execution_count": null,
   "id": "3ce63a5a",
   "metadata": {},
   "outputs": [],
   "source": [
    "fig = px.box(data, x='Type_of_Loan', color='Credit_Score',\n",
    "            title='Credit Scores Based on Type of Loans',\n",
    "            color_discrete_map={'Poor':'red', 'Standard':'yellow', 'Good':'green'})\n",
    "fig.show()"
   ]
  },
  {
   "cell_type": "markdown",
   "id": "001f3d86",
   "metadata": {},
   "source": [
    "Loans such as Presonal loans, home equity loans, mortgage loans and auto loans or credit builder loans give a better credit score than other types of loans."
   ]
  },
  {
   "cell_type": "markdown",
   "id": "1a5dd2e5",
   "metadata": {},
   "source": [
    "**Analysing Impact of Delay of Payment from due date on Credit Score**"
   ]
  },
  {
   "cell_type": "code",
   "execution_count": null,
   "id": "557366a6",
   "metadata": {},
   "outputs": [],
   "source": [
    "fig = px.box(data, x='Credit_Score', y= 'Delay_from_due_date',  \n",
    "             color='Credit_Score',\n",
    "             title='Credit Scores Based on Avg number of days delayed for credit card payments',\n",
    "             color_discrete_map={'Poor':'red', 'Standard':'yellow', 'Good':'green'})\n",
    "fig.update_traces(quartilemethod='exclusive')\n",
    "fig.show()"
   ]
  },
  {
   "cell_type": "markdown",
   "id": "c5fb7c7f",
   "metadata": {},
   "source": [
    "Delaying the credit card payments from 5-14 days from the due date will not affects the credit score. But Delaying more than 17 days from the due date will negatively impacts the credit score. "
   ]
  },
  {
   "cell_type": "markdown",
   "id": "68883d0e",
   "metadata": {},
   "source": [
    "**Analysing Impact of Number of delay in payments on credit score**"
   ]
  },
  {
   "cell_type": "code",
   "execution_count": null,
   "id": "0c284dff",
   "metadata": {},
   "outputs": [],
   "source": [
    "fig = px.box(data, x='Credit_Score', y= 'Num_of_Delayed_Payment',  \n",
    "             color='Credit_Score',\n",
    "             title='Credit Scores Based on Number of days delayed payments',\n",
    "             color_discrete_map={'Poor':'red', 'Standard':'yellow', 'Good':'green'})\n",
    "fig.update_traces(quartilemethod='exclusive')\n",
    "fig.show()"
   ]
  },
  {
   "cell_type": "markdown",
   "id": "30b7389c",
   "metadata": {},
   "source": [
    "Delaying 4-12 payments will not affects the credit score. But delaying more than 12 payments will negatively impacts the credit score."
   ]
  },
  {
   "cell_type": "markdown",
   "id": "02c5f932",
   "metadata": {},
   "source": [
    "**Analysing Impact of Outstanding debts on Credit Score**"
   ]
  },
  {
   "cell_type": "code",
   "execution_count": null,
   "id": "15c41cb6",
   "metadata": {},
   "outputs": [],
   "source": [
    "fig = px.box(data, x='Credit_Score', y= 'Outstanding_Debt',  \n",
    "             color='Credit_Score',\n",
    "             title='Credit Scores Based on Outstanding Debts',\n",
    "             color_discrete_map={'Poor':'red', 'Standard':'yellow', 'Good':'green'})\n",
    "fig.update_traces(quartilemethod='exclusive')\n",
    "fig.show()"
   ]
  },
  {
   "cell_type": "markdown",
   "id": "98afc3ac",
   "metadata": {},
   "source": [
    "An outstanding debt of dollar 380-1150 will not affect your credit scores. But always having a debt of more than dollar 1338 will affect your credit scores negatively."
   ]
  },
  {
   "cell_type": "markdown",
   "id": "79d5d8a4",
   "metadata": {},
   "source": [
    "**Analysing Imapct of Credit Utilization Ratio on Credit Score**"
   ]
  },
  {
   "cell_type": "code",
   "execution_count": null,
   "id": "0cc1f705",
   "metadata": {},
   "outputs": [],
   "source": [
    "fig = px.box(data, x='Credit_Score', y= 'Credit_Utilization_Ratio',  \n",
    "             color='Credit_Score',\n",
    "             title='Credit Scores Based on Credit Utilization Ratio',\n",
    "             color_discrete_map={'Poor':'red', 'Standard':'yellow', 'Good':'green'})\n",
    "fig.update_traces(quartilemethod='exclusive')\n",
    "fig.show()"
   ]
  },
  {
   "cell_type": "markdown",
   "id": "298454a1",
   "metadata": {},
   "source": [
    "According to the visualization, the credit utilization ratio does not affects the credit scores of a person."
   ]
  },
  {
   "cell_type": "markdown",
   "id": "a7f88b64",
   "metadata": {},
   "source": [
    "**Analysing impact of Credit History Age on Credit Score**"
   ]
  },
  {
   "cell_type": "code",
   "execution_count": null,
   "id": "ffb60f87",
   "metadata": {},
   "outputs": [],
   "source": [
    "fig = px.box(data, x='Credit_Score', y= 'Credit_History_Age',  \n",
    "             color='Credit_Score',\n",
    "             title='Credit Scores Based on Credit History Age',\n",
    "             color_discrete_map={'Poor':'red', 'Standard':'yellow', 'Good':'green'})\n",
    "fig.update_traces(quartilemethod='exclusive')\n",
    "fig.show()"
   ]
  },
  {
   "cell_type": "markdown",
   "id": "430e8d00",
   "metadata": {},
   "source": [
    "Having a long credit history results in better credit score."
   ]
  },
  {
   "cell_type": "markdown",
   "id": "19924335",
   "metadata": {},
   "source": [
    "**Analysing Impact of Total EMI per month on Credit Score**"
   ]
  },
  {
   "cell_type": "code",
   "execution_count": null,
   "id": "26a25a11",
   "metadata": {},
   "outputs": [],
   "source": [
    "fig = px.box(data, x='Credit_Score', y= 'Total_EMI_per_month',  \n",
    "             color='Credit_Score',\n",
    "             title='Credit Scores Based on Total EMI per month',\n",
    "             color_discrete_map={'Poor':'red', 'Standard':'yellow', 'Good':'green'})\n",
    "fig.update_traces(quartilemethod='exclusive')\n",
    "fig.show()"
   ]
  },
  {
   "cell_type": "markdown",
   "id": "16daad3a",
   "metadata": {},
   "source": [
    "The number of EMI payments does not affects the credit score of a person."
   ]
  },
  {
   "cell_type": "markdown",
   "id": "4cd46a9d",
   "metadata": {},
   "source": [
    "**Analysing iImpact of Monthly Amount Invested  on Credit Score**"
   ]
  },
  {
   "cell_type": "code",
   "execution_count": null,
   "id": "5bd2e34a",
   "metadata": {
    "scrolled": false
   },
   "outputs": [],
   "source": [
    "fig = px.box(data, x='Credit_Score', y= 'Amount_invested_monthly',  \n",
    "             color='Credit_Score',\n",
    "             title='Credit Scores Based on Monthly Invested Amount ',\n",
    "             color_discrete_map={'Poor':'red', 'Standard':'yellow', 'Good':'green'})\n",
    "fig.update_traces(quartilemethod='exclusive')\n",
    "fig.show()"
   ]
  },
  {
   "cell_type": "markdown",
   "id": "99fa2753",
   "metadata": {},
   "source": [
    "The amount of money invested monthly does not affects the credit score of a person."
   ]
  },
  {
   "cell_type": "markdown",
   "id": "21227fd0",
   "metadata": {},
   "source": [
    "**Analysing Impact of Monthly Balance on Credit Score**"
   ]
  },
  {
   "cell_type": "code",
   "execution_count": null,
   "id": "9debf772",
   "metadata": {},
   "outputs": [],
   "source": [
    "fig = px.box(data, x='Credit_Score', y= 'Monthly_Balance',  \n",
    "             color='Credit_Score',\n",
    "             title='Credit Scores Based on Monthly Balance',\n",
    "             color_discrete_map={'Poor':'red', 'Standard':'yellow', 'Good':'green'})\n",
    "fig.update_traces(quartilemethod='exclusive')\n",
    "fig.show()"
   ]
  },
  {
   "cell_type": "markdown",
   "id": "61681cb5",
   "metadata": {},
   "source": [
    "Having a high monthly balance is good for the credit score of a person. A monthly balance of less than dollar 250 is bad for the credit score."
   ]
  },
  {
   "cell_type": "markdown",
   "id": "593e8b84",
   "metadata": {},
   "source": [
    "## MODEL BUILDING"
   ]
  },
  {
   "cell_type": "code",
   "execution_count": null,
   "id": "1abe0c4e",
   "metadata": {},
   "outputs": [],
   "source": [
    "## Transforming Categorical Column into Numerical Column\n",
    "\n",
    "data['Credit_Mix'] = data['Credit_Mix'].map({'Standard': 1, 'Good': 2, 'Bad': 3})"
   ]
  },
  {
   "cell_type": "code",
   "execution_count": null,
   "id": "73e89df6",
   "metadata": {},
   "outputs": [],
   "source": [
    "from sklearn.model_selection import train_test_split\n",
    "x = np.array(data[[\"Annual_Income\", \"Monthly_Inhand_Salary\", \n",
    "                   \"Num_Bank_Accounts\", \"Num_Credit_Card\", \n",
    "                   \"Interest_Rate\", \"Num_of_Loan\", \n",
    "                   \"Delay_from_due_date\", \"Num_of_Delayed_Payment\", \n",
    "                   \"Credit_Mix\", \"Outstanding_Debt\", \n",
    "                   \"Credit_History_Age\", \"Monthly_Balance\"]])\n",
    "y = np.array(data[[\"Credit_Score\"]])"
   ]
  },
  {
   "cell_type": "code",
   "execution_count": null,
   "id": "7b95ed25",
   "metadata": {},
   "outputs": [],
   "source": [
    "xtrain, xtest, ytrain, ytest = train_test_split(x, y, test_size=0.33, random_state=42)\n",
    "from sklearn.ensemble import RandomForestClassifier\n",
    "model = RandomForestClassifier()\n",
    "model.fit(xtrain, ytrain)"
   ]
  },
  {
   "cell_type": "code",
   "execution_count": null,
   "id": "de0957b3",
   "metadata": {},
   "outputs": [],
   "source": [
    "print(\"Credit Score Prediction : \")\n",
    "a = float(input(\"Annual Income: \"))\n",
    "b = float(input(\"Monthly Inhand Salary: \"))\n",
    "c = float(input(\"Number of Bank Accounts: \"))\n",
    "d = float(input(\"Number of Credit cards: \"))\n",
    "e = float(input(\"Interest rate: \"))\n",
    "f = float(input(\"Number of Loans: \"))\n",
    "g = float(input(\"Average number of days delayed by the person: \"))\n",
    "h = float(input(\"Number of delayed payments: \"))\n",
    "i = input(\"Credit Mix (Bad: 0, Standard: 1, Good: 3) : \")\n",
    "j = float(input(\"Outstanding Debt: \"))\n",
    "k = float(input(\"Credit History Age: \"))\n",
    "l = float(input(\"Monthly Balance: \"))\n",
    "\n",
    "features = np.array([[a, b, c, d, e, f, g, h, i, j, k, l]])\n",
    "print(\"Predicted Credit Score = \", model.predict(features))"
   ]
  }
 ],
 "metadata": {
  "kernelspec": {
   "display_name": "Python 3 (ipykernel)",
   "language": "python",
   "name": "python3"
  },
  "language_info": {
   "codemirror_mode": {
    "name": "ipython",
    "version": 3
   },
   "file_extension": ".py",
   "mimetype": "text/x-python",
   "name": "python",
   "nbconvert_exporter": "python",
   "pygments_lexer": "ipython3",
   "version": "3.9.7"
  }
 },
 "nbformat": 4,
 "nbformat_minor": 5
}
